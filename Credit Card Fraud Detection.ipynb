{
 "cells": [
  {
   "cell_type": "markdown",
   "metadata": {},
   "source": [
    "# Credit card Fraud detection"
   ]
  },
  {
   "cell_type": "code",
   "execution_count": 164,
   "metadata": {},
   "outputs": [],
   "source": [
    "import numpy as np\n",
    "import pandas as pd\n",
    "import matplotlib.pyplot as plt\n",
    "import seaborn as sns\n",
    "\n",
    "import tensorflow as tf\n",
    "from tensorflow.keras import Sequential\n",
    "from tensorflow.keras.layers import Input, Dense\n",
    "from tensorflow.keras.models import Model\n",
    "from tensorflow.keras import Sequential\n",
    "from tensorflow.keras.losses import CategoricalCrossentropy\n",
    "from tensorflow.keras.utils import to_categorical\n",
    "\n",
    "\n",
    "from sklearn.linear_model import LogisticRegression\n",
    "from sklearn.preprocessing import StandardScaler\n",
    "from sklearn.model_selection import train_test_split\n",
    "\n",
    "from sklearn.metrics import confusion_matrix, precision_recall_curve\n",
    "from sklearn.metrics import classification_report, accuracy_score, recall_score, f1_score, precision_score\n",
    "from sklearn.metrics import roc_curve, auc, roc_auc_score"
   ]
  },
  {
   "cell_type": "markdown",
   "metadata": {},
   "source": [
    "## Import of the dataset of credit card operations\n",
    "from https://www.kaggle.com/mlg-ulb/creditcardfraud"
   ]
  },
  {
   "cell_type": "code",
   "execution_count": 165,
   "metadata": {},
   "outputs": [],
   "source": [
    "df = pd.read_csv(\"/Users/victor_03/Documents/Man 2019-2020/Dissertation/Datasets/creditcard.csv\")\n",
    "\n",
    "y = df[\"Class\"].values\n",
    "X = df.drop([\"Class\", \"Time\"], axis=1)\n",
    "\n",
    "x_scale = StandardScaler().fit_transform(X.values)\n",
    "x_norm, x_fraud = x_scale[y == 0], x_scale[y == 1]"
   ]
  },
  {
   "cell_type": "markdown",
   "metadata": {},
   "source": [
    "The dataset is composed of 31 features. Time of operation, amount of the operation and class (1=fraud, 0=non-fraud). The 28 other features are the result of a PCA on the original dataset, not available."
   ]
  },
  {
   "cell_type": "code",
   "execution_count": 166,
   "metadata": {},
   "outputs": [],
   "source": [
    "results = pd.DataFrame(columns=['model', 'AUC', 'recall', 'precision', 'f1-score'])"
   ]
  },
  {
   "cell_type": "code",
   "execution_count": 167,
   "metadata": {
    "scrolled": true
   },
   "outputs": [
    {
     "data": {
      "text/html": [
       "<div>\n",
       "<style scoped>\n",
       "    .dataframe tbody tr th:only-of-type {\n",
       "        vertical-align: middle;\n",
       "    }\n",
       "\n",
       "    .dataframe tbody tr th {\n",
       "        vertical-align: top;\n",
       "    }\n",
       "\n",
       "    .dataframe thead th {\n",
       "        text-align: right;\n",
       "    }\n",
       "</style>\n",
       "<table border=\"1\" class=\"dataframe\">\n",
       "  <thead>\n",
       "    <tr style=\"text-align: right;\">\n",
       "      <th></th>\n",
       "      <th>Time</th>\n",
       "      <th>V1</th>\n",
       "      <th>V2</th>\n",
       "      <th>V3</th>\n",
       "      <th>V4</th>\n",
       "      <th>V5</th>\n",
       "      <th>V6</th>\n",
       "      <th>V7</th>\n",
       "      <th>V8</th>\n",
       "      <th>V9</th>\n",
       "      <th>...</th>\n",
       "      <th>V21</th>\n",
       "      <th>V22</th>\n",
       "      <th>V23</th>\n",
       "      <th>V24</th>\n",
       "      <th>V25</th>\n",
       "      <th>V26</th>\n",
       "      <th>V27</th>\n",
       "      <th>V28</th>\n",
       "      <th>Amount</th>\n",
       "      <th>Class</th>\n",
       "    </tr>\n",
       "  </thead>\n",
       "  <tbody>\n",
       "    <tr>\n",
       "      <th>0</th>\n",
       "      <td>0.0</td>\n",
       "      <td>-1.359807</td>\n",
       "      <td>-0.072781</td>\n",
       "      <td>2.536347</td>\n",
       "      <td>1.378155</td>\n",
       "      <td>-0.338321</td>\n",
       "      <td>0.462388</td>\n",
       "      <td>0.239599</td>\n",
       "      <td>0.098698</td>\n",
       "      <td>0.363787</td>\n",
       "      <td>...</td>\n",
       "      <td>-0.018307</td>\n",
       "      <td>0.277838</td>\n",
       "      <td>-0.110474</td>\n",
       "      <td>0.066928</td>\n",
       "      <td>0.128539</td>\n",
       "      <td>-0.189115</td>\n",
       "      <td>0.133558</td>\n",
       "      <td>-0.021053</td>\n",
       "      <td>149.62</td>\n",
       "      <td>0</td>\n",
       "    </tr>\n",
       "    <tr>\n",
       "      <th>1</th>\n",
       "      <td>0.0</td>\n",
       "      <td>1.191857</td>\n",
       "      <td>0.266151</td>\n",
       "      <td>0.166480</td>\n",
       "      <td>0.448154</td>\n",
       "      <td>0.060018</td>\n",
       "      <td>-0.082361</td>\n",
       "      <td>-0.078803</td>\n",
       "      <td>0.085102</td>\n",
       "      <td>-0.255425</td>\n",
       "      <td>...</td>\n",
       "      <td>-0.225775</td>\n",
       "      <td>-0.638672</td>\n",
       "      <td>0.101288</td>\n",
       "      <td>-0.339846</td>\n",
       "      <td>0.167170</td>\n",
       "      <td>0.125895</td>\n",
       "      <td>-0.008983</td>\n",
       "      <td>0.014724</td>\n",
       "      <td>2.69</td>\n",
       "      <td>0</td>\n",
       "    </tr>\n",
       "    <tr>\n",
       "      <th>2</th>\n",
       "      <td>1.0</td>\n",
       "      <td>-1.358354</td>\n",
       "      <td>-1.340163</td>\n",
       "      <td>1.773209</td>\n",
       "      <td>0.379780</td>\n",
       "      <td>-0.503198</td>\n",
       "      <td>1.800499</td>\n",
       "      <td>0.791461</td>\n",
       "      <td>0.247676</td>\n",
       "      <td>-1.514654</td>\n",
       "      <td>...</td>\n",
       "      <td>0.247998</td>\n",
       "      <td>0.771679</td>\n",
       "      <td>0.909412</td>\n",
       "      <td>-0.689281</td>\n",
       "      <td>-0.327642</td>\n",
       "      <td>-0.139097</td>\n",
       "      <td>-0.055353</td>\n",
       "      <td>-0.059752</td>\n",
       "      <td>378.66</td>\n",
       "      <td>0</td>\n",
       "    </tr>\n",
       "    <tr>\n",
       "      <th>3</th>\n",
       "      <td>1.0</td>\n",
       "      <td>-0.966272</td>\n",
       "      <td>-0.185226</td>\n",
       "      <td>1.792993</td>\n",
       "      <td>-0.863291</td>\n",
       "      <td>-0.010309</td>\n",
       "      <td>1.247203</td>\n",
       "      <td>0.237609</td>\n",
       "      <td>0.377436</td>\n",
       "      <td>-1.387024</td>\n",
       "      <td>...</td>\n",
       "      <td>-0.108300</td>\n",
       "      <td>0.005274</td>\n",
       "      <td>-0.190321</td>\n",
       "      <td>-1.175575</td>\n",
       "      <td>0.647376</td>\n",
       "      <td>-0.221929</td>\n",
       "      <td>0.062723</td>\n",
       "      <td>0.061458</td>\n",
       "      <td>123.50</td>\n",
       "      <td>0</td>\n",
       "    </tr>\n",
       "    <tr>\n",
       "      <th>4</th>\n",
       "      <td>2.0</td>\n",
       "      <td>-1.158233</td>\n",
       "      <td>0.877737</td>\n",
       "      <td>1.548718</td>\n",
       "      <td>0.403034</td>\n",
       "      <td>-0.407193</td>\n",
       "      <td>0.095921</td>\n",
       "      <td>0.592941</td>\n",
       "      <td>-0.270533</td>\n",
       "      <td>0.817739</td>\n",
       "      <td>...</td>\n",
       "      <td>-0.009431</td>\n",
       "      <td>0.798278</td>\n",
       "      <td>-0.137458</td>\n",
       "      <td>0.141267</td>\n",
       "      <td>-0.206010</td>\n",
       "      <td>0.502292</td>\n",
       "      <td>0.219422</td>\n",
       "      <td>0.215153</td>\n",
       "      <td>69.99</td>\n",
       "      <td>0</td>\n",
       "    </tr>\n",
       "  </tbody>\n",
       "</table>\n",
       "<p>5 rows × 31 columns</p>\n",
       "</div>"
      ],
      "text/plain": [
       "   Time        V1        V2        V3        V4        V5        V6        V7  \\\n",
       "0   0.0 -1.359807 -0.072781  2.536347  1.378155 -0.338321  0.462388  0.239599   \n",
       "1   0.0  1.191857  0.266151  0.166480  0.448154  0.060018 -0.082361 -0.078803   \n",
       "2   1.0 -1.358354 -1.340163  1.773209  0.379780 -0.503198  1.800499  0.791461   \n",
       "3   1.0 -0.966272 -0.185226  1.792993 -0.863291 -0.010309  1.247203  0.237609   \n",
       "4   2.0 -1.158233  0.877737  1.548718  0.403034 -0.407193  0.095921  0.592941   \n",
       "\n",
       "         V8        V9  ...       V21       V22       V23       V24       V25  \\\n",
       "0  0.098698  0.363787  ... -0.018307  0.277838 -0.110474  0.066928  0.128539   \n",
       "1  0.085102 -0.255425  ... -0.225775 -0.638672  0.101288 -0.339846  0.167170   \n",
       "2  0.247676 -1.514654  ...  0.247998  0.771679  0.909412 -0.689281 -0.327642   \n",
       "3  0.377436 -1.387024  ... -0.108300  0.005274 -0.190321 -1.175575  0.647376   \n",
       "4 -0.270533  0.817739  ... -0.009431  0.798278 -0.137458  0.141267 -0.206010   \n",
       "\n",
       "        V26       V27       V28  Amount  Class  \n",
       "0 -0.189115  0.133558 -0.021053  149.62      0  \n",
       "1  0.125895 -0.008983  0.014724    2.69      0  \n",
       "2 -0.139097 -0.055353 -0.059752  378.66      0  \n",
       "3 -0.221929  0.062723  0.061458  123.50      0  \n",
       "4  0.502292  0.219422  0.215153   69.99      0  \n",
       "\n",
       "[5 rows x 31 columns]"
      ]
     },
     "execution_count": 167,
     "metadata": {},
     "output_type": "execute_result"
    }
   ],
   "source": [
    "df.head()"
   ]
  },
  {
   "cell_type": "markdown",
   "metadata": {},
   "source": [
    "### Parameters for the model"
   ]
  },
  {
   "cell_type": "code",
   "execution_count": 168,
   "metadata": {},
   "outputs": [],
   "source": [
    "batch_size = 256\n",
    "learning_rate=0.0005\n",
    "epochs=15\n",
    "optimizer = tf.keras.optimizers.Adam(learning_rate=learning_rate)\n",
    "\n",
    "AE_train_size = 100000\n",
    "LR_train_size = 100000\n",
    "fraud_train_size = int(len(x_fraud)*.7)\n",
    "#Validation size: last 84807 rows\n",
    "\n",
    "X_train_AE = x_norm[:AE_train_size]\n",
    "#No y_train needed for the autoencoder as it is a semi-supervised model"
   ]
  },
  {
   "cell_type": "markdown",
   "metadata": {},
   "source": [
    "### Model autoencoder\n",
    "We first train the autoencoder model to reconstruct the input data\n",
    "The training is done using the non-fraud data only so that the model learn to reconstruct it."
   ]
  },
  {
   "cell_type": "code",
   "execution_count": 169,
   "metadata": {},
   "outputs": [
    {
     "name": "stdout",
     "output_type": "stream",
     "text": [
      "Model: \"model_16\"\n",
      "_________________________________________________________________\n",
      "Layer (type)                 Output Shape              Param #   \n",
      "=================================================================\n",
      "input_18 (InputLayer)        [(None, 29)]              0         \n",
      "_________________________________________________________________\n",
      "dense_48 (Dense)             (None, 1024)              30720     \n",
      "_________________________________________________________________\n",
      "dense_49 (Dense)             (None, 128)               131200    \n",
      "_________________________________________________________________\n",
      "dense_50 (Dense)             (None, 16)                2064      \n",
      "_________________________________________________________________\n",
      "dense_51 (Dense)             (None, 128)               2176      \n",
      "_________________________________________________________________\n",
      "dense_52 (Dense)             (None, 1024)              132096    \n",
      "_________________________________________________________________\n",
      "dense_53 (Dense)             (None, 29)                29725     \n",
      "=================================================================\n",
      "Total params: 327,981\n",
      "Trainable params: 327,981\n",
      "Non-trainable params: 0\n",
      "_________________________________________________________________\n",
      "Train on 90000 samples, validate on 10000 samples\n",
      "Epoch 1/15\n",
      "90000/90000 [==============================] - 13s 147us/sample - loss: 0.2468 - acc: 0.6341 - val_loss: 0.0648 - val_acc: 0.7978\n",
      "Epoch 2/15\n",
      "90000/90000 [==============================] - 11s 121us/sample - loss: 0.0574 - acc: 0.8207 - val_loss: 0.0372 - val_acc: 0.8692\n",
      "Epoch 3/15\n",
      "90000/90000 [==============================] - 10s 115us/sample - loss: 0.0409 - acc: 0.8562 - val_loss: 0.0264 - val_acc: 0.8878\n",
      "Epoch 4/15\n",
      "90000/90000 [==============================] - 11s 119us/sample - loss: 0.0297 - acc: 0.8800 - val_loss: 0.0235 - val_acc: 0.8939\n",
      "Epoch 5/15\n",
      "90000/90000 [==============================] - 11s 117us/sample - loss: 0.0242 - acc: 0.8916 - val_loss: 0.0256 - val_acc: 0.8966\n",
      "Epoch 6/15\n",
      "90000/90000 [==============================] - 12s 133us/sample - loss: 0.0230 - acc: 0.8959 - val_loss: 0.0219 - val_acc: 0.8986\n",
      "Epoch 7/15\n",
      "90000/90000 [==============================] - 12s 138us/sample - loss: 0.0198 - acc: 0.9020 - val_loss: 0.0237 - val_acc: 0.8928\n",
      "Epoch 8/15\n",
      "90000/90000 [==============================] - 17s 190us/sample - loss: 0.0201 - acc: 0.9049 - val_loss: 0.0150 - val_acc: 0.9234\n",
      "Epoch 9/15\n",
      "90000/90000 [==============================] - 12s 135us/sample - loss: 0.0168 - acc: 0.9129 - val_loss: 0.0173 - val_acc: 0.9114\n",
      "Epoch 10/15\n",
      "90000/90000 [==============================] - 11s 122us/sample - loss: 0.0202 - acc: 0.9094 - val_loss: 0.0209 - val_acc: 0.9027\n",
      "Epoch 11/15\n",
      "90000/90000 [==============================] - 11s 121us/sample - loss: 0.0163 - acc: 0.9150 - val_loss: 0.0130 - val_acc: 0.9185\n",
      "Epoch 12/15\n",
      "90000/90000 [==============================] - 11s 123us/sample - loss: 0.0145 - acc: 0.9183 - val_loss: 0.0137 - val_acc: 0.9239\n",
      "Epoch 13/15\n",
      "90000/90000 [==============================] - 11s 123us/sample - loss: 0.0137 - acc: 0.9213 - val_loss: 0.0136 - val_acc: 0.9206\n",
      "Epoch 14/15\n",
      "90000/90000 [==============================] - 11s 120us/sample - loss: 0.0161 - acc: 0.9178 - val_loss: 0.0148 - val_acc: 0.9287\n",
      "Epoch 15/15\n",
      "90000/90000 [==============================] - 11s 120us/sample - loss: 0.0128 - acc: 0.9240 - val_loss: 0.0107 - val_acc: 0.9313\n"
     ]
    }
   ],
   "source": [
    "#Autoencoder\n",
    "n_feature=X_train_AE.shape[1]\n",
    "\n",
    "i = Input(shape=(n_feature,))\n",
    "x = Dense(1024, activation='relu')(i)\n",
    "x = Dense(128, activation=\"relu\")(x)\n",
    "x = Dense(16, activation=\"relu\")(x)\n",
    "x = Dense(128, activation=\"relu\")(x)\n",
    "x = Dense(1024, activation=\"relu\")(x)\n",
    "o = Dense(n_feature)(x)\n",
    "\n",
    "\n",
    "#Compile and fit\n",
    "model = Model(i,o)\n",
    "model.compile(loss=\"mse\", metrics=['accuracy'], optimizer=optimizer)\n",
    "model.summary()\n",
    "\n",
    "callback = tf.keras.callbacks.EarlyStopping(\n",
    "    monitor='val_loss', min_delta=0, patience=10, verbose=0, mode='auto',\n",
    "    baseline=None, restore_best_weights=True\n",
    ")\n",
    "#The target is the input data\n",
    "hist = model.fit(X_train_AE, X_train_AE, epochs=epochs, batch_size=batch_size, verbose=1, validation_split=0.1, callbacks=[callback])"
   ]
  },
  {
   "cell_type": "markdown",
   "metadata": {},
   "source": [
    "#### Plot of the accuracy of the reconstruction model"
   ]
  },
  {
   "cell_type": "code",
   "execution_count": 170,
   "metadata": {},
   "outputs": [
    {
     "data": {
      "image/png": "[encoded data removed]",
      "text/plain": [
       "<Figure size 800x560 with 1 Axes>"
      ]
     },
     "metadata": {},
     "output_type": "display_data"
    }
   ],
   "source": [
    "fig, ax = plt.subplots(figsize = (10, 7), dpi=80, facecolor='w', edgecolor='k')\n",
    "ax.plot(hist.history['acc'], label=\"training accuracy\", linewidth = 2, marker='o', color=(1, .1, .1))\n",
    "ax.plot(hist.history['val_acc'], label='test accuracy', linewidth = 2, marker='v', color=(.3, .4, 1), linestyle=(0, (1, 1)))\n",
    "\n",
    "ax.grid(alpha=.5, linewidth = 1, linestyle = '--')\n",
    "ax.legend(fontsize = 23)\n",
    "plt.title(\"accuracy non private AE\", fontsize=20)\n",
    "plt.xlabel(\"number of epochs\", fontsize=23)\n",
    "plt.ylabel(\"accuracy\", fontsize=23)\n",
    "plt.gca().xaxis.set_tick_params(labelsize = 18)\n",
    "plt.gca().yaxis.set_tick_params(labelsize = 18)\n",
    "ax.xaxis.set_ticks([2*i for i in range(0, 6)])\n",
    "ax.yaxis.set_ticks([0.02*i for i in range(30, 51)])\n",
    "plt.show()"
   ]
  },
  {
   "cell_type": "markdown",
   "metadata": {},
   "source": [
    "## Fraud detection \n",
    "The data is reconstruct through the autoencoder. \n",
    "As fraud data input the model, the output should be largely different than expected for non-fraud data.\n",
    "The distance is then calculated between the input data and its reconstruction.\n",
    "The data with large distance are considered as fraud."
   ]
  },
  {
   "cell_type": "code",
   "execution_count": 171,
   "metadata": {},
   "outputs": [],
   "source": [
    "#Reconstruction of the data, non-fraud and fraud\n",
    "norm_hid_rep = model.predict(x_norm)\n",
    "fraud_hid_rep = model.predict(x_fraud)\n",
    "\n",
    "#data to train the logistic regression, different than those used for the autoencoder\n",
    "#Size of the training set in this case: 100,000\n",
    "norm_LR_training = norm_hid_rep[AE_train_size: AE_train_size + LR_train_size]\n",
    "fraud_LR_training = fraud_hid_rep[:fraud_train_size]\n",
    "#The last 86704 are used for the validation\n",
    "norm_LR_validation = norm_hid_rep[AE_train_size + LR_train_size:]\n",
    "fraud_LR_validation = fraud_hid_rep[fraud_train_size:]\n",
    "\n",
    "#We add the fraud data \n",
    "rep_x_train = np.append(norm_LR_training, fraud_LR_training, axis = 0)\n",
    "y_n = np.zeros(norm_LR_training.shape[0])\n",
    "y_f = np.ones(fraud_hid_rep[:fraud_train_size].shape[0])\n",
    "#target label\n",
    "rep_y_train = np.append(y_n, y_f)"
   ]
  },
  {
   "cell_type": "markdown",
   "metadata": {},
   "source": [
    "### Training of the Logistic regression"
   ]
  },
  {
   "cell_type": "code",
   "execution_count": 172,
   "metadata": {},
   "outputs": [],
   "source": [
    "clf = LogisticRegression(random_state=0).fit(rep_x_train, rep_y_train)\n",
    "\n",
    "prediction = clf.predict(np.concatenate((norm_LR_validation, fraud_LR_validation), axis=0))"
   ]
  },
  {
   "cell_type": "markdown",
   "metadata": {},
   "source": [
    "## Validation of the model using AUC, precision, recall and f1 score\n",
    "AUC is the main parameter used for validation on this dataset. Nevertheless, it appears that some models can provide high AUC while providing poor results on performance and recall. \n",
    "f1 score thereby appears as a good second parameter to confirm the performance of the model"
   ]
  },
  {
   "cell_type": "code",
   "execution_count": 173,
   "metadata": {},
   "outputs": [
    {
     "name": "stdout",
     "output_type": "stream",
     "text": [
      "AUC:  0.824\n",
      "recall: 0.649\n",
      "f1:  0.768\n",
      "precision:  0.941\n"
     ]
    }
   ],
   "source": [
    "rep_x_validation = np.append(norm_LR_validation, fraud_LR_validation, axis = 0)\n",
    "y_n_validation = np.zeros(norm_LR_validation.shape[0])\n",
    "y_f_validation = np.ones(fraud_LR_validation[:fraud_train_size].shape[0])\n",
    "ground_truth = np.append(y_n_validation, y_f_validation)\n",
    "\n",
    "\n",
    "recall = round(recall_score(ground_truth, prediction, average=None)[1], 3)\n",
    "f1 = round(f1_score(ground_truth, prediction, average=None)[1], 3)\n",
    "precision = round(precision_score(ground_truth, prediction, average=None)[1], 3)\n",
    "AUC = round(roc_auc_score(ground_truth, prediction), 3)\n",
    "results=results.append({'model': 'autoencoder + LR', 'AUC': AUC, 'recall': recall, 'precision': precision, 'f1-score': f1}, ignore_index=True)\n",
    "print('AUC: ', AUC)\n",
    "print('recall:', recall)\n",
    "print('f1: ', f1)\n",
    "print('precision: ', precision)"
   ]
  },
  {
   "cell_type": "code",
   "execution_count": 174,
   "metadata": {
    "scrolled": false
   },
   "outputs": [
    {
     "data": {
      "image/png": "[encoded data removed]",
      "text/plain": [
       "<Figure size 864x864 with 2 Axes>"
      ]
     },
     "metadata": {
      "needs_background": "light"
     },
     "output_type": "display_data"
    }
   ],
   "source": [
    "conf_matrix = confusion_matrix(ground_truth, prediction)\n",
    "plt.figure(figsize=(12, 12))\n",
    "sns.heatmap(conf_matrix, xticklabels=[\"Normal\", \"Fraud\"], yticklabels=[\"Normal\", \"Fraud\"], annot=True, fmt=\"d\")\n",
    "plt.title(\"Confusion matrix\")\n",
    "plt.ylabel('True class')\n",
    "plt.xlabel('Predicted class')\n",
    "plt.show()"
   ]
  },
  {
   "cell_type": "markdown",
   "metadata": {},
   "source": [
    "## Comparison with encoder + LR"
   ]
  },
  {
   "cell_type": "markdown",
   "metadata": {},
   "source": [
    "The encoder part only is kept to make prediction. The principle is the same as previously, but the logistic regression is applied on the output of the encoder instead of the decoder"
   ]
  },
  {
   "cell_type": "code",
   "execution_count": 175,
   "metadata": {},
   "outputs": [],
   "source": [
    "ie = Input(shape=(n_feature,))\n",
    "encoder = model.layers[0](ie)\n",
    "encoder = model.layers[1](encoder)\n",
    "encoder = model.layers[2](encoder)\n",
    "encoder = model.layers[3](encoder)\n",
    "encoder = Model(ie, encoder)"
   ]
  },
  {
   "cell_type": "code",
   "execution_count": 176,
   "metadata": {},
   "outputs": [],
   "source": [
    "#Reconstruction of the data, non-fraud and fraud\n",
    "norm_hid_rep = encoder.predict(x_norm)\n",
    "fraud_hid_rep = encoder.predict(x_fraud)\n",
    "\n",
    "#data to train the logistic regression, different than those used for the autoencoder\n",
    "#Size of the training set in this case: 100,000\n",
    "norm_LR_training = norm_hid_rep[AE_train_size: AE_train_size + LR_train_size]\n",
    "fraud_LR_training = fraud_hid_rep[:fraud_train_size]\n",
    "#The last 86704 are used for the validation\n",
    "norm_LR_validation = norm_hid_rep[AE_train_size + LR_train_size:]\n",
    "fraud_LR_validation = fraud_hid_rep[fraud_train_size:]\n",
    "\n",
    "#We add the fraud data \n",
    "rep_x_train = np.append(norm_LR_training, fraud_LR_training, axis = 0)\n",
    "y_n = np.zeros(norm_LR_training.shape[0])\n",
    "y_f = np.ones(fraud_hid_rep[:fraud_train_size].shape[0])\n",
    "#target label\n",
    "rep_y_train = np.append(y_n, y_f)"
   ]
  },
  {
   "cell_type": "code",
   "execution_count": 177,
   "metadata": {},
   "outputs": [],
   "source": [
    "clf = LogisticRegression(random_state=0).fit(rep_x_train, rep_y_train)\n",
    "\n",
    "prediction = clf.predict(np.concatenate((norm_LR_validation, fraud_LR_validation), axis=0))"
   ]
  },
  {
   "cell_type": "code",
   "execution_count": 178,
   "metadata": {},
   "outputs": [
    {
     "name": "stdout",
     "output_type": "stream",
     "text": [
      "AUC:  0.821\n",
      "recall: 0.642\n",
      "f1:  0.757\n",
      "precision:  0.922\n"
     ]
    }
   ],
   "source": [
    "rep_x_validation = np.append(norm_LR_validation, fraud_LR_validation, axis = 0)\n",
    "y_n_validation = np.zeros(norm_LR_validation.shape[0])\n",
    "y_f_validation = np.ones(fraud_LR_validation[:fraud_train_size].shape[0])\n",
    "ground_truth = np.append(y_n_validation, y_f_validation)\n",
    "\n",
    "\n",
    "recall = round(recall_score(ground_truth, prediction, average=None)[1], 3)\n",
    "f1 = round(f1_score(ground_truth, prediction, average=None)[1], 3)\n",
    "precision = round(precision_score(ground_truth, prediction, average=None)[1], 3)\n",
    "AUC = round(roc_auc_score(ground_truth, prediction), 3)\n",
    "results=results.append({'model': 'encoder + LR', 'AUC': AUC, 'recall': recall, 'precision': precision, 'f1-score': f1}, ignore_index=True)\n",
    "\n",
    "print('AUC: ', AUC)\n",
    "print('recall:', recall)\n",
    "print('f1: ', f1)\n",
    "print('precision: ', precision)"
   ]
  },
  {
   "cell_type": "markdown",
   "metadata": {},
   "source": [
    "## Comparison with a pure Logistic Regression"
   ]
  },
  {
   "cell_type": "code",
   "execution_count": 179,
   "metadata": {},
   "outputs": [],
   "source": [
    "X_train, X_test, y_train, y_test = train_test_split(X, y, random_state=42)"
   ]
  },
  {
   "cell_type": "code",
   "execution_count": 180,
   "metadata": {},
   "outputs": [
    {
     "name": "stderr",
     "output_type": "stream",
     "text": [
      "/Users/victor_03/opt/anaconda3/envs/Tenv/lib/python3.7/site-packages/sklearn/linear_model/_logistic.py:940: ConvergenceWarning: lbfgs failed to converge (status=1):\n",
      "STOP: TOTAL NO. of ITERATIONS REACHED LIMIT.\n",
      "\n",
      "Increase the number of iterations (max_iter) or scale the data as shown in:\n",
      "    https://scikit-learn.org/stable/modules/preprocessing.html\n",
      "Please also refer to the documentation for alternative solver options:\n",
      "    https://scikit-learn.org/stable/modules/linear_model.html#logistic-regression\n",
      "  extra_warning_msg=_LOGISTIC_SOLVER_CONVERGENCE_MSG)\n"
     ]
    }
   ],
   "source": [
    "clf = LogisticRegression(random_state=0).fit(X_train, y_train)\n",
    "\n",
    "prediction = clf.predict(X_test)"
   ]
  },
  {
   "cell_type": "code",
   "execution_count": 181,
   "metadata": {},
   "outputs": [
    {
     "name": "stdout",
     "output_type": "stream",
     "text": [
      "AUC:  0.805\n",
      "recall: 0.611\n",
      "f1:  0.704\n",
      "precision:  0.831\n"
     ]
    }
   ],
   "source": [
    "recall = round(recall_score(y_test, prediction, average=None)[1], 3)\n",
    "f1 = round(f1_score(y_test, prediction, average=None)[1], 3)\n",
    "precision = round(precision_score(y_test, prediction, average=None)[1], 3)\n",
    "AUC= round(roc_auc_score(y_test, prediction), 3)\n",
    "\n",
    "results=results.append({'model': 'LR', 'AUC': AUC, 'recall': recall, 'precision': precision, 'f1-score': f1}, ignore_index=True)\n",
    "\n",
    "print('AUC: ', AUC)\n",
    "print('recall:', recall)\n",
    "print('f1: ', f1)\n",
    "print('precision: ', precision)"
   ]
  },
  {
   "cell_type": "code",
   "execution_count": 182,
   "metadata": {},
   "outputs": [
    {
     "data": {
      "text/html": [
       "<div>\n",
       "<style scoped>\n",
       "    .dataframe tbody tr th:only-of-type {\n",
       "        vertical-align: middle;\n",
       "    }\n",
       "\n",
       "    .dataframe tbody tr th {\n",
       "        vertical-align: top;\n",
       "    }\n",
       "\n",
       "    .dataframe thead th {\n",
       "        text-align: right;\n",
       "    }\n",
       "</style>\n",
       "<table border=\"1\" class=\"dataframe\">\n",
       "  <thead>\n",
       "    <tr style=\"text-align: right;\">\n",
       "      <th></th>\n",
       "      <th>model</th>\n",
       "      <th>AUC</th>\n",
       "      <th>recall</th>\n",
       "      <th>precision</th>\n",
       "      <th>f1-score</th>\n",
       "    </tr>\n",
       "  </thead>\n",
       "  <tbody>\n",
       "    <tr>\n",
       "      <th>0</th>\n",
       "      <td>autoencoder + LR</td>\n",
       "      <td>0.824</td>\n",
       "      <td>0.649</td>\n",
       "      <td>0.941</td>\n",
       "      <td>0.768</td>\n",
       "    </tr>\n",
       "    <tr>\n",
       "      <th>1</th>\n",
       "      <td>encoder + LR</td>\n",
       "      <td>0.821</td>\n",
       "      <td>0.642</td>\n",
       "      <td>0.922</td>\n",
       "      <td>0.757</td>\n",
       "    </tr>\n",
       "    <tr>\n",
       "      <th>2</th>\n",
       "      <td>LR</td>\n",
       "      <td>0.805</td>\n",
       "      <td>0.611</td>\n",
       "      <td>0.831</td>\n",
       "      <td>0.704</td>\n",
       "    </tr>\n",
       "  </tbody>\n",
       "</table>\n",
       "</div>"
      ],
      "text/plain": [
       "              model    AUC  recall  precision  f1-score\n",
       "0  autoencoder + LR  0.824   0.649      0.941     0.768\n",
       "1      encoder + LR  0.821   0.642      0.922     0.757\n",
       "2                LR  0.805   0.611      0.831     0.704"
      ]
     },
     "execution_count": 182,
     "metadata": {},
     "output_type": "execute_result"
    }
   ],
   "source": [
    "results"
   ]
  },
  {
   "cell_type": "markdown",
   "metadata": {},
   "source": [
    "As a result, the Logistic Regression alone provides lower performances than when the autoencoder is previously applied. The result obtained after reconstruction by the whole autoencoder or only the encoder are quit similar. Using the encoder only can be interesting as it performs the prediction faster."
   ]
  },
  {
   "cell_type": "code",
   "execution_count": null,
   "metadata": {},
   "outputs": [],
   "source": []
  }
 ],
 "metadata": {
  "kernelspec": {
   "display_name": "Python (Tenv)",
   "language": "python",
   "name": "tenv"
  },
  "language_info": {
   "codemirror_mode": {
    "name": "ipython",
    "version": 3
   },
   "file_extension": ".py",
   "mimetype": "text/x-python",
   "name": "python",
   "nbconvert_exporter": "python",
   "pygments_lexer": "ipython3",
   "version": "3.7.7"
  }
 },
 "nbformat": 4,
 "nbformat_minor": 2
}
